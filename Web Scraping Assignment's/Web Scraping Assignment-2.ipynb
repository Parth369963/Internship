{
 "cells": [
  {
   "cell_type": "markdown",
   "id": "2bea2c4d",
   "metadata": {},
   "source": [
    "# ....................................ASSIGNMENT 2...................................."
   ]
  },
  {
   "cell_type": "markdown",
   "id": "13b2eca5",
   "metadata": {},
   "source": [
    "**!pip install selenium**"
   ]
  },
  {
   "cell_type": "code",
   "execution_count": 1,
   "id": "8bde4695",
   "metadata": {},
   "outputs": [],
   "source": [
    "import selenium\n",
    "from selenium import webdriver\n",
    "from selenium.webdriver.common.by import By\n",
    "\n",
    "import pandas as pd\n",
    "\n",
    "import warnings\n",
    "warnings.filterwarnings(\"ignore\")"
   ]
  },
  {
   "cell_type": "markdown",
   "id": "353ef743",
   "metadata": {},
   "source": [
    "## Q1: Write a python program to scrape data for “Data Analyst” Job position in “Bangalore” location. You have to scrape the job-title, job-location, company_name, experience_required. You have to scrape first 10 jobs data.\n"
   ]
  },
  {
   "cell_type": "code",
   "execution_count": 2,
   "id": "7412dfec",
   "metadata": {},
   "outputs": [],
   "source": [
    "driver=webdriver.Chrome('chromedriver.exe')"
   ]
  },
  {
   "cell_type": "code",
   "execution_count": 20,
   "id": "a58ba784",
   "metadata": {},
   "outputs": [],
   "source": [
    "url='https://www.naukri.com/'\n",
    "driver.get(url)"
   ]
  },
  {
   "cell_type": "code",
   "execution_count": 21,
   "id": "b1ee867c",
   "metadata": {},
   "outputs": [],
   "source": [
    "driver.maximize_window()"
   ]
  },
  {
   "cell_type": "code",
   "execution_count": 22,
   "id": "4372c213",
   "metadata": {},
   "outputs": [],
   "source": [
    "designation = driver.find_element(By.CLASS_NAME,\"suggestor-input\")\n",
    "designation.send_keys('Data Analyst')"
   ]
  },
  {
   "cell_type": "code",
   "execution_count": 23,
   "id": "882da8dc",
   "metadata": {},
   "outputs": [],
   "source": [
    "location = driver.find_element(By.XPATH,\"/html/body/div[1]/div[6]/div/div/div[5]/div/div/div/input\") # This XPath input\n",
    "\n",
    "location.send_keys('Bangalore')"
   ]
  },
  {
   "cell_type": "code",
   "execution_count": 24,
   "id": "fcf72379",
   "metadata": {},
   "outputs": [],
   "source": [
    "search=driver.find_element(By.CLASS_NAME,\"qsbSubmit\")\n",
    "search.click()"
   ]
  },
  {
   "cell_type": "code",
   "execution_count": 25,
   "id": "f95ff2f9",
   "metadata": {},
   "outputs": [],
   "source": [
    "job_title=[]\n",
    "job_location=[]\n",
    "company_name=[]\n",
    "experience_required=[] "
   ]
  },
  {
   "cell_type": "code",
   "execution_count": 26,
   "id": "4f71f492",
   "metadata": {},
   "outputs": [],
   "source": [
    "# Scraping Job title from the given page\n",
    "\n",
    "title_tags=driver.find_elements(By.XPATH,'//a[@class=\"title ellipsis\"]')\n",
    "for i in title_tags[0:10]:\n",
    "    title=i.text\n",
    "    job_title.append(title)\n",
    "\n",
    "\n",
    "# Scraping Job Location from the given page\n",
    "\n",
    "location_tags=driver.find_elements(By.XPATH,'//span[@class=\"ellipsis fleft locWdth\"]')\n",
    "for i in location_tags[0:10]:\n",
    "    location=i.text\n",
    "    job_location.append(location)\n",
    "\n",
    "# Scraping company name from the given page\n",
    "\n",
    "company_tags=driver.find_elements(By.XPATH,\"//a[@class='subTitle ellipsis fleft']\")\n",
    "for i in company_tags[0:10]:\n",
    "    company=i.text\n",
    "    company_name.append(company)\n",
    "\n",
    "# Scraping Job Experience from the given page\n",
    "\n",
    "experience_tags=driver.find_elements(By.XPATH,'//span[@class=\"ellipsis fleft expwdth\"]')\n",
    "for i in experience_tags[0:10]:\n",
    "    exp=i.text\n",
    "    experience_required.append(exp)"
   ]
  },
  {
   "cell_type": "code",
   "execution_count": 27,
   "id": "cb87dc50",
   "metadata": {},
   "outputs": [
    {
     "name": "stdout",
     "output_type": "stream",
     "text": [
      "10 10 10 10\n"
     ]
    }
   ],
   "source": [
    "print(len(job_title),len(job_location),len(company_name),len(experience_required))"
   ]
  },
  {
   "cell_type": "code",
   "execution_count": 28,
   "id": "2dd28cd5",
   "metadata": {},
   "outputs": [
    {
     "data": {
      "text/html": [
       "<div>\n",
       "<style scoped>\n",
       "    .dataframe tbody tr th:only-of-type {\n",
       "        vertical-align: middle;\n",
       "    }\n",
       "\n",
       "    .dataframe tbody tr th {\n",
       "        vertical-align: top;\n",
       "    }\n",
       "\n",
       "    .dataframe thead th {\n",
       "        text-align: right;\n",
       "    }\n",
       "</style>\n",
       "<table border=\"1\" class=\"dataframe\">\n",
       "  <thead>\n",
       "    <tr style=\"text-align: right;\">\n",
       "      <th></th>\n",
       "      <th>Title</th>\n",
       "      <th>Location</th>\n",
       "      <th>Company_name</th>\n",
       "      <th>Experience</th>\n",
       "    </tr>\n",
       "  </thead>\n",
       "  <tbody>\n",
       "    <tr>\n",
       "      <th>0</th>\n",
       "      <td>Data Analyst / Senior Analyst - R / SQL / Python</td>\n",
       "      <td>Bangalore/Bengaluru, Kolkata, Mumbai, Hyderaba...</td>\n",
       "      <td>The Nikharv Consultancy</td>\n",
       "      <td>3-6 Yrs</td>\n",
       "    </tr>\n",
       "    <tr>\n",
       "      <th>1</th>\n",
       "      <td>Data Analyst/Senior Analyst - R/SQL/Python</td>\n",
       "      <td>Temp. WFH - Bangalore/Bengaluru, Kolkata, Mumb...</td>\n",
       "      <td>The Nikharv Consultancy</td>\n",
       "      <td>3-6 Yrs</td>\n",
       "    </tr>\n",
       "    <tr>\n",
       "      <th>2</th>\n",
       "      <td>Data Analyst</td>\n",
       "      <td>Bangalore/Bengaluru</td>\n",
       "      <td>Target</td>\n",
       "      <td>2-4 Yrs</td>\n",
       "    </tr>\n",
       "    <tr>\n",
       "      <th>3</th>\n",
       "      <td>data analyst / data analytics - US MNC (analyt...</td>\n",
       "      <td>Temp. WFH - Bangalore/Bengaluru, Gurgaon/Gurugram</td>\n",
       "      <td>Aspyra Hr Services</td>\n",
       "      <td>3-8 Yrs</td>\n",
       "    </tr>\n",
       "    <tr>\n",
       "      <th>4</th>\n",
       "      <td>Business Data Analyst (Sr Exe / Asst Manager)</td>\n",
       "      <td>Bangalore/Bengaluru</td>\n",
       "      <td>Talentleads</td>\n",
       "      <td>3-5 Yrs</td>\n",
       "    </tr>\n",
       "    <tr>\n",
       "      <th>5</th>\n",
       "      <td>Junior Data Analyst/ Scientist- Fresher Position</td>\n",
       "      <td>Hybrid - Bangalore/Bengaluru, New Delhi, Mumba...</td>\n",
       "      <td>Sejal Consulting Hub</td>\n",
       "      <td>0-5 Yrs</td>\n",
       "    </tr>\n",
       "    <tr>\n",
       "      <th>6</th>\n",
       "      <td>Staff Data Analyst</td>\n",
       "      <td>Bangalore/Bengaluru</td>\n",
       "      <td>Walmart</td>\n",
       "      <td>10-14 Yrs</td>\n",
       "    </tr>\n",
       "    <tr>\n",
       "      <th>7</th>\n",
       "      <td>Reference Data Analyst</td>\n",
       "      <td>Bangalore/Bengaluru</td>\n",
       "      <td>Deutsche Bank</td>\n",
       "      <td>6-8 Yrs</td>\n",
       "    </tr>\n",
       "    <tr>\n",
       "      <th>8</th>\n",
       "      <td>Sr Data Analyst</td>\n",
       "      <td>Hybrid - Bangalore/Bengaluru</td>\n",
       "      <td>Amolitalents</td>\n",
       "      <td>6-9 Yrs</td>\n",
       "    </tr>\n",
       "    <tr>\n",
       "      <th>9</th>\n",
       "      <td>Job Opportunity with Leading MNC - Senior Data...</td>\n",
       "      <td>Bangalore/Bengaluru</td>\n",
       "      <td>Enrich And Enlight Business Consulting</td>\n",
       "      <td>5-7 Yrs</td>\n",
       "    </tr>\n",
       "  </tbody>\n",
       "</table>\n",
       "</div>"
      ],
      "text/plain": [
       "                                               Title  \\\n",
       "0   Data Analyst / Senior Analyst - R / SQL / Python   \n",
       "1         Data Analyst/Senior Analyst - R/SQL/Python   \n",
       "2                                       Data Analyst   \n",
       "3  data analyst / data analytics - US MNC (analyt...   \n",
       "4      Business Data Analyst (Sr Exe / Asst Manager)   \n",
       "5   Junior Data Analyst/ Scientist- Fresher Position   \n",
       "6                                 Staff Data Analyst   \n",
       "7                             Reference Data Analyst   \n",
       "8                                    Sr Data Analyst   \n",
       "9  Job Opportunity with Leading MNC - Senior Data...   \n",
       "\n",
       "                                            Location  \\\n",
       "0  Bangalore/Bengaluru, Kolkata, Mumbai, Hyderaba...   \n",
       "1  Temp. WFH - Bangalore/Bengaluru, Kolkata, Mumb...   \n",
       "2                                Bangalore/Bengaluru   \n",
       "3  Temp. WFH - Bangalore/Bengaluru, Gurgaon/Gurugram   \n",
       "4                                Bangalore/Bengaluru   \n",
       "5  Hybrid - Bangalore/Bengaluru, New Delhi, Mumba...   \n",
       "6                                Bangalore/Bengaluru   \n",
       "7                                Bangalore/Bengaluru   \n",
       "8                       Hybrid - Bangalore/Bengaluru   \n",
       "9                                Bangalore/Bengaluru   \n",
       "\n",
       "                             Company_name Experience  \n",
       "0                 The Nikharv Consultancy    3-6 Yrs  \n",
       "1                 The Nikharv Consultancy    3-6 Yrs  \n",
       "2                                  Target    2-4 Yrs  \n",
       "3                      Aspyra Hr Services    3-8 Yrs  \n",
       "4                             Talentleads    3-5 Yrs  \n",
       "5                    Sejal Consulting Hub    0-5 Yrs  \n",
       "6                                 Walmart  10-14 Yrs  \n",
       "7                           Deutsche Bank    6-8 Yrs  \n",
       "8                            Amolitalents    6-9 Yrs  \n",
       "9  Enrich And Enlight Business Consulting    5-7 Yrs  "
      ]
     },
     "execution_count": 28,
     "metadata": {},
     "output_type": "execute_result"
    }
   ],
   "source": [
    "import pandas as pd\n",
    "\n",
    "df=pd.DataFrame({'Title':job_title,'Location':job_location,'Company_name':company_name,'Experience':experience_required})\n",
    "df"
   ]
  },
  {
   "cell_type": "markdown",
   "id": "05a60f40",
   "metadata": {},
   "source": [
    "## Q2:Write a python program to scrape data for “Data Scientist” Job position in “Bangalore” location. You have to scrape the job-title, job-location, company_name. You have to scrape first 10 jobs data. This task will be done in following steps:"
   ]
  },
  {
   "cell_type": "code",
   "execution_count": 29,
   "id": "3447cd69",
   "metadata": {},
   "outputs": [],
   "source": [
    "driver2=webdriver.Chrome('chromedriver.exe')\n",
    "driver2.get('https://www.naukri.com/')"
   ]
  },
  {
   "cell_type": "code",
   "execution_count": 30,
   "id": "7faa7f8a",
   "metadata": {},
   "outputs": [],
   "source": [
    "driver2.maximize_window()"
   ]
  },
  {
   "cell_type": "code",
   "execution_count": 31,
   "id": "0774c3ff",
   "metadata": {},
   "outputs": [],
   "source": [
    "search_jobs2=driver2.find_element(By.CLASS_NAME,'suggestor-input').send_keys(\"Data Analyst\")"
   ]
  },
  {
   "cell_type": "code",
   "execution_count": 33,
   "id": "d298f30a",
   "metadata": {},
   "outputs": [],
   "source": [
    "search_location2= driver2.find_element(By.XPATH,\"/html/body/div[1]/div[6]/div/div/div[5]/div/div/div/input\")\n",
    "search_location2.send_keys('Bangalore')"
   ]
  },
  {
   "cell_type": "code",
   "execution_count": 36,
   "id": "bcd7371b",
   "metadata": {},
   "outputs": [],
   "source": [
    "search_button2= driver2.find_element(\"xpath\",'/html/body/div[1]/div[6]/div/div/div[6]')\n",
    "search_button2.click()"
   ]
  },
  {
   "cell_type": "code",
   "execution_count": 43,
   "id": "452b266b",
   "metadata": {},
   "outputs": [],
   "source": [
    "title_tags2=driver2.find_elements(\"xpath\",'//a[@class=\"title ellipsis\"]')\n",
    "job_title2=[]\n",
    "for i in title_tags2:\n",
    "    job_title2.append(i.text)\n",
    "    \n",
    "loc_tags2=driver2.find_elements(\"xpath\",'//span[@class=\"ellipsis fleft locWdth\"]')\n",
    "job_loc2=[]\n",
    "for i in loc_tags2:\n",
    "    job_loc2.append(i.text)\n",
    "    \n",
    "comp_tags2=driver2.find_elements(\"xpath\",'//a[@class=\"subTitle ellipsis fleft\"]')\n",
    "comp_title2=[]\n",
    "for i in comp_tags2:\n",
    "    comp_title2.append(i.text)"
   ]
  },
  {
   "cell_type": "code",
   "execution_count": 44,
   "id": "dffde24e",
   "metadata": {},
   "outputs": [
    {
     "name": "stdout",
     "output_type": "stream",
     "text": [
      "20 20 20\n"
     ]
    }
   ],
   "source": [
    "print(len(job_title2),len(job_loc2),len(comp_title2))"
   ]
  },
  {
   "cell_type": "code",
   "execution_count": 45,
   "id": "cf146956",
   "metadata": {},
   "outputs": [
    {
     "data": {
      "text/html": [
       "<div>\n",
       "<style scoped>\n",
       "    .dataframe tbody tr th:only-of-type {\n",
       "        vertical-align: middle;\n",
       "    }\n",
       "\n",
       "    .dataframe tbody tr th {\n",
       "        vertical-align: top;\n",
       "    }\n",
       "\n",
       "    .dataframe thead th {\n",
       "        text-align: right;\n",
       "    }\n",
       "</style>\n",
       "<table border=\"1\" class=\"dataframe\">\n",
       "  <thead>\n",
       "    <tr style=\"text-align: right;\">\n",
       "      <th></th>\n",
       "      <th>Job Title</th>\n",
       "      <th>Job Location</th>\n",
       "      <th>Company Name</th>\n",
       "    </tr>\n",
       "  </thead>\n",
       "  <tbody>\n",
       "    <tr>\n",
       "      <th>0</th>\n",
       "      <td>Data Analyst / Senior Analyst - R / SQL / Python</td>\n",
       "      <td>Bangalore/Bengaluru, Kolkata, Mumbai, Hyderaba...</td>\n",
       "      <td>The Nikharv Consultancy</td>\n",
       "    </tr>\n",
       "    <tr>\n",
       "      <th>1</th>\n",
       "      <td>Data Analyst/Senior Analyst - R/SQL/Python</td>\n",
       "      <td>Temp. WFH - Bangalore/Bengaluru, Kolkata, Mumb...</td>\n",
       "      <td>The Nikharv Consultancy</td>\n",
       "    </tr>\n",
       "    <tr>\n",
       "      <th>2</th>\n",
       "      <td>Data Analyst</td>\n",
       "      <td>Bangalore/Bengaluru</td>\n",
       "      <td>Target</td>\n",
       "    </tr>\n",
       "    <tr>\n",
       "      <th>3</th>\n",
       "      <td>data analyst / data analytics - US MNC (analyt...</td>\n",
       "      <td>Temp. WFH - Bangalore/Bengaluru, Gurgaon/Gurugram</td>\n",
       "      <td>Aspyra Hr Services</td>\n",
       "    </tr>\n",
       "    <tr>\n",
       "      <th>4</th>\n",
       "      <td>Business Data Analyst (Sr Exe / Asst Manager)</td>\n",
       "      <td>Bangalore/Bengaluru</td>\n",
       "      <td>Talentleads</td>\n",
       "    </tr>\n",
       "    <tr>\n",
       "      <th>5</th>\n",
       "      <td>Junior Data Analyst/ Scientist- Fresher Position</td>\n",
       "      <td>Hybrid - Bangalore/Bengaluru, New Delhi, Mumba...</td>\n",
       "      <td>Sejal Consulting Hub</td>\n",
       "    </tr>\n",
       "    <tr>\n",
       "      <th>6</th>\n",
       "      <td>Staff Data Analyst</td>\n",
       "      <td>Bangalore/Bengaluru</td>\n",
       "      <td>Walmart</td>\n",
       "    </tr>\n",
       "    <tr>\n",
       "      <th>7</th>\n",
       "      <td>Reference Data Analyst</td>\n",
       "      <td>Bangalore/Bengaluru</td>\n",
       "      <td>Deutsche Bank</td>\n",
       "    </tr>\n",
       "    <tr>\n",
       "      <th>8</th>\n",
       "      <td>Sr Data Analyst</td>\n",
       "      <td>Hybrid - Bangalore/Bengaluru</td>\n",
       "      <td>Amolitalents</td>\n",
       "    </tr>\n",
       "    <tr>\n",
       "      <th>9</th>\n",
       "      <td>Job Opportunity with Leading MNC - Senior Data...</td>\n",
       "      <td>Bangalore/Bengaluru</td>\n",
       "      <td>Enrich And Enlight Business Consulting</td>\n",
       "    </tr>\n",
       "  </tbody>\n",
       "</table>\n",
       "</div>"
      ],
      "text/plain": [
       "                                           Job Title  \\\n",
       "0   Data Analyst / Senior Analyst - R / SQL / Python   \n",
       "1         Data Analyst/Senior Analyst - R/SQL/Python   \n",
       "2                                       Data Analyst   \n",
       "3  data analyst / data analytics - US MNC (analyt...   \n",
       "4      Business Data Analyst (Sr Exe / Asst Manager)   \n",
       "5   Junior Data Analyst/ Scientist- Fresher Position   \n",
       "6                                 Staff Data Analyst   \n",
       "7                             Reference Data Analyst   \n",
       "8                                    Sr Data Analyst   \n",
       "9  Job Opportunity with Leading MNC - Senior Data...   \n",
       "\n",
       "                                        Job Location  \\\n",
       "0  Bangalore/Bengaluru, Kolkata, Mumbai, Hyderaba...   \n",
       "1  Temp. WFH - Bangalore/Bengaluru, Kolkata, Mumb...   \n",
       "2                                Bangalore/Bengaluru   \n",
       "3  Temp. WFH - Bangalore/Bengaluru, Gurgaon/Gurugram   \n",
       "4                                Bangalore/Bengaluru   \n",
       "5  Hybrid - Bangalore/Bengaluru, New Delhi, Mumba...   \n",
       "6                                Bangalore/Bengaluru   \n",
       "7                                Bangalore/Bengaluru   \n",
       "8                       Hybrid - Bangalore/Bengaluru   \n",
       "9                                Bangalore/Bengaluru   \n",
       "\n",
       "                             Company Name  \n",
       "0                 The Nikharv Consultancy  \n",
       "1                 The Nikharv Consultancy  \n",
       "2                                  Target  \n",
       "3                      Aspyra Hr Services  \n",
       "4                             Talentleads  \n",
       "5                    Sejal Consulting Hub  \n",
       "6                                 Walmart  \n",
       "7                           Deutsche Bank  \n",
       "8                            Amolitalents  \n",
       "9  Enrich And Enlight Business Consulting  "
      ]
     },
     "execution_count": 45,
     "metadata": {},
     "output_type": "execute_result"
    }
   ],
   "source": [
    "Data_Analyst_2=pd.DataFrame({'Job Title':job_title2,'Job Location':job_loc2,'Company Name':comp_title2})\n",
    "Data_Analyst_2[0:10]"
   ]
  },
  {
   "cell_type": "markdown",
   "id": "2db874ff",
   "metadata": {},
   "source": [
    "# Q3: In this question you have to scrape data using the filters available on the webpage as shown below:"
   ]
  },
  {
   "cell_type": "code",
   "execution_count": 46,
   "id": "76f9c9cd",
   "metadata": {},
   "outputs": [],
   "source": [
    "driver3=webdriver.Chrome('chromedriver.exe')\n",
    "driver3.get('https://www.naukri.com/')"
   ]
  },
  {
   "cell_type": "code",
   "execution_count": 47,
   "id": "a194c486",
   "metadata": {},
   "outputs": [],
   "source": [
    "driver3.maximize_window()"
   ]
  },
  {
   "cell_type": "code",
   "execution_count": 48,
   "id": "b69a1d3b",
   "metadata": {},
   "outputs": [],
   "source": [
    "search_jobs3=driver3.find_element(By.CLASS_NAME,'suggestor-input')\n",
    "search_jobs3.send_keys(\"Data Analyst\")"
   ]
  },
  {
   "cell_type": "code",
   "execution_count": 50,
   "id": "d1f9fd88",
   "metadata": {},
   "outputs": [],
   "source": [
    "search_button3= driver3.find_element(\"xpath\",'/html/body/div[1]/div[6]/div/div/div[6]')\n",
    "search_button3.click()"
   ]
  },
  {
   "cell_type": "code",
   "execution_count": 55,
   "id": "cc9eb42a",
   "metadata": {},
   "outputs": [],
   "source": [
    "location_filter = driver3.find_element('xpath','/html/body/div[1]/div[4]/div/div/section[1]/div[2]/div[4]/div[2]/div[1]/label/i')\n",
    "location_filter.click()"
   ]
  },
  {
   "cell_type": "code",
   "execution_count": 56,
   "id": "06072b3b",
   "metadata": {},
   "outputs": [],
   "source": [
    "salary_checkbox = driver3.find_element(\"xpath\",'/html/body/div[1]/div[4]/div/div/section[1]/div[2]/div[5]/div[2]/div[4]/label/i')\n",
    "salary_checkbox.click()"
   ]
  },
  {
   "cell_type": "code",
   "execution_count": 61,
   "id": "c87574db",
   "metadata": {},
   "outputs": [],
   "source": [
    "title_tags3=driver3.find_elements(\"xpath\",'//a[@class=\"title ellipsis\"]')\n",
    "job_title3=[]\n",
    "for i in title_tags3:\n",
    "    job_title3.append(i.text)\n",
    "    \n",
    "loc_tags3=driver3.find_elements(\"xpath\",'//span[@class=\"ellipsis fleft locWdth\"]')\n",
    "job_loc3=[]\n",
    "for i in loc_tags3:\n",
    "    job_loc3.append(i.text)  \n",
    "\n",
    "sal_3=driver3.find_elements(\"xpath\",'//span[@class=\"ellipsis fleft expwdth\"]')\n",
    "salary_3=[]\n",
    "for i in sal_3:\n",
    "    salary_3.append(i.text)"
   ]
  },
  {
   "cell_type": "code",
   "execution_count": 62,
   "id": "eebd2923",
   "metadata": {},
   "outputs": [
    {
     "name": "stdout",
     "output_type": "stream",
     "text": [
      "20 20 20 20\n"
     ]
    }
   ],
   "source": [
    "print(len(job_title2),len(job_loc2),len(comp_title2),len(salary_3))"
   ]
  },
  {
   "cell_type": "code",
   "execution_count": 64,
   "id": "19249053",
   "metadata": {},
   "outputs": [
    {
     "data": {
      "text/html": [
       "<div>\n",
       "<style scoped>\n",
       "    .dataframe tbody tr th:only-of-type {\n",
       "        vertical-align: middle;\n",
       "    }\n",
       "\n",
       "    .dataframe tbody tr th {\n",
       "        vertical-align: top;\n",
       "    }\n",
       "\n",
       "    .dataframe thead th {\n",
       "        text-align: right;\n",
       "    }\n",
       "</style>\n",
       "<table border=\"1\" class=\"dataframe\">\n",
       "  <thead>\n",
       "    <tr style=\"text-align: right;\">\n",
       "      <th></th>\n",
       "      <th>Job Title</th>\n",
       "      <th>Job Location</th>\n",
       "      <th>Company Name</th>\n",
       "      <th>Salary</th>\n",
       "    </tr>\n",
       "  </thead>\n",
       "  <tbody>\n",
       "    <tr>\n",
       "      <th>0</th>\n",
       "      <td>Data Analyst / Senior Analyst - R / SQL / Python</td>\n",
       "      <td>Bangalore/Bengaluru, Kolkata, Mumbai, Hyderaba...</td>\n",
       "      <td>The Nikharv Consultancy</td>\n",
       "      <td>3-6 Yrs</td>\n",
       "    </tr>\n",
       "    <tr>\n",
       "      <th>1</th>\n",
       "      <td>Data Analyst/Senior Analyst - R/SQL/Python</td>\n",
       "      <td>Temp. WFH - Bangalore/Bengaluru, Kolkata, Mumb...</td>\n",
       "      <td>The Nikharv Consultancy</td>\n",
       "      <td>3-6 Yrs</td>\n",
       "    </tr>\n",
       "    <tr>\n",
       "      <th>2</th>\n",
       "      <td>Data Analyst</td>\n",
       "      <td>Bangalore/Bengaluru</td>\n",
       "      <td>Target</td>\n",
       "      <td>2-4 Yrs</td>\n",
       "    </tr>\n",
       "    <tr>\n",
       "      <th>3</th>\n",
       "      <td>data analyst / data analytics - US MNC (analyt...</td>\n",
       "      <td>Temp. WFH - Bangalore/Bengaluru, Gurgaon/Gurugram</td>\n",
       "      <td>Aspyra Hr Services</td>\n",
       "      <td>3-5 Yrs</td>\n",
       "    </tr>\n",
       "    <tr>\n",
       "      <th>4</th>\n",
       "      <td>Business Data Analyst (Sr Exe / Asst Manager)</td>\n",
       "      <td>Bangalore/Bengaluru</td>\n",
       "      <td>Talentleads</td>\n",
       "      <td>10-14 Yrs</td>\n",
       "    </tr>\n",
       "    <tr>\n",
       "      <th>5</th>\n",
       "      <td>Junior Data Analyst/ Scientist- Fresher Position</td>\n",
       "      <td>Hybrid - Bangalore/Bengaluru, New Delhi, Mumba...</td>\n",
       "      <td>Sejal Consulting Hub</td>\n",
       "      <td>6-8 Yrs</td>\n",
       "    </tr>\n",
       "    <tr>\n",
       "      <th>6</th>\n",
       "      <td>Staff Data Analyst</td>\n",
       "      <td>Bangalore/Bengaluru</td>\n",
       "      <td>Walmart</td>\n",
       "      <td>6-9 Yrs</td>\n",
       "    </tr>\n",
       "    <tr>\n",
       "      <th>7</th>\n",
       "      <td>Reference Data Analyst</td>\n",
       "      <td>Bangalore/Bengaluru</td>\n",
       "      <td>Deutsche Bank</td>\n",
       "      <td>2-7 Yrs</td>\n",
       "    </tr>\n",
       "    <tr>\n",
       "      <th>8</th>\n",
       "      <td>Sr Data Analyst</td>\n",
       "      <td>Hybrid - Bangalore/Bengaluru</td>\n",
       "      <td>Amolitalents</td>\n",
       "      <td>3-8 Yrs</td>\n",
       "    </tr>\n",
       "    <tr>\n",
       "      <th>9</th>\n",
       "      <td>Job Opportunity with Leading MNC - Senior Data...</td>\n",
       "      <td>Bangalore/Bengaluru</td>\n",
       "      <td>Enrich And Enlight Business Consulting</td>\n",
       "      <td>4-9 Yrs</td>\n",
       "    </tr>\n",
       "  </tbody>\n",
       "</table>\n",
       "</div>"
      ],
      "text/plain": [
       "                                           Job Title  \\\n",
       "0   Data Analyst / Senior Analyst - R / SQL / Python   \n",
       "1         Data Analyst/Senior Analyst - R/SQL/Python   \n",
       "2                                       Data Analyst   \n",
       "3  data analyst / data analytics - US MNC (analyt...   \n",
       "4      Business Data Analyst (Sr Exe / Asst Manager)   \n",
       "5   Junior Data Analyst/ Scientist- Fresher Position   \n",
       "6                                 Staff Data Analyst   \n",
       "7                             Reference Data Analyst   \n",
       "8                                    Sr Data Analyst   \n",
       "9  Job Opportunity with Leading MNC - Senior Data...   \n",
       "\n",
       "                                        Job Location  \\\n",
       "0  Bangalore/Bengaluru, Kolkata, Mumbai, Hyderaba...   \n",
       "1  Temp. WFH - Bangalore/Bengaluru, Kolkata, Mumb...   \n",
       "2                                Bangalore/Bengaluru   \n",
       "3  Temp. WFH - Bangalore/Bengaluru, Gurgaon/Gurugram   \n",
       "4                                Bangalore/Bengaluru   \n",
       "5  Hybrid - Bangalore/Bengaluru, New Delhi, Mumba...   \n",
       "6                                Bangalore/Bengaluru   \n",
       "7                                Bangalore/Bengaluru   \n",
       "8                       Hybrid - Bangalore/Bengaluru   \n",
       "9                                Bangalore/Bengaluru   \n",
       "\n",
       "                             Company Name     Salary  \n",
       "0                 The Nikharv Consultancy    3-6 Yrs  \n",
       "1                 The Nikharv Consultancy    3-6 Yrs  \n",
       "2                                  Target    2-4 Yrs  \n",
       "3                      Aspyra Hr Services    3-5 Yrs  \n",
       "4                             Talentleads  10-14 Yrs  \n",
       "5                    Sejal Consulting Hub    6-8 Yrs  \n",
       "6                                 Walmart    6-9 Yrs  \n",
       "7                           Deutsche Bank    2-7 Yrs  \n",
       "8                            Amolitalents    3-8 Yrs  \n",
       "9  Enrich And Enlight Business Consulting    4-9 Yrs  "
      ]
     },
     "execution_count": 64,
     "metadata": {},
     "output_type": "execute_result"
    }
   ],
   "source": [
    "Data_Analyst_3=pd.DataFrame({'Job Title':job_title2,'Job Location':job_loc2,'Company Name':comp_title2, 'Salary':salary_3})\n",
    "Data_Analyst_3[0:10]"
   ]
  },
  {
   "cell_type": "markdown",
   "id": "7e864234",
   "metadata": {},
   "source": [
    "## Q4: Scrape data of first 100 sunglasses listings on flipkart.com. You have to scrape four attributes:"
   ]
  },
  {
   "cell_type": "code",
   "execution_count": 65,
   "id": "89d3c082",
   "metadata": {},
   "outputs": [],
   "source": [
    "driver4=webdriver.Chrome('chromedriver.exe')\n",
    "driver4.get('https://www.flipkart.com/')"
   ]
  },
  {
   "cell_type": "code",
   "execution_count": 66,
   "id": "5e60eedd",
   "metadata": {},
   "outputs": [],
   "source": [
    "driver4.maximize_window()"
   ]
  },
  {
   "cell_type": "code",
   "execution_count": 67,
   "id": "0e063b95",
   "metadata": {},
   "outputs": [],
   "source": [
    "popupclose = driver4.find_element(\"xpath\",\"/html/body/div[2]/div/div/button\")\n",
    "popupclose.click()"
   ]
  },
  {
   "cell_type": "code",
   "execution_count": 68,
   "id": "225ed76a",
   "metadata": {},
   "outputs": [],
   "source": [
    "search_product=driver4.find_element(By.CLASS_NAME,'_3704LK')\n",
    "search_product.send_keys(\"Sunglasses\")"
   ]
  },
  {
   "cell_type": "code",
   "execution_count": 69,
   "id": "85427db3",
   "metadata": {},
   "outputs": [],
   "source": [
    "search_button4= driver4.find_element(By.CLASS_NAME,'L0Z3Pu')\n",
    "search_button4.click()"
   ]
  },
  {
   "cell_type": "code",
   "execution_count": 89,
   "id": "bedc723f",
   "metadata": {},
   "outputs": [],
   "source": [
    "brand=driver4.find_elements(\"xpath\",'//div[@class=\"_2WkVRV\"]')\n",
    "brand_name=[]\n",
    "for i in brand[0:35]:\n",
    "    brand_name.append(i.text)\n",
    "\n",
    "product=driver4.find_elements(\"xpath\",'//a[@class=\"IRpwTa\"]')\n",
    "product_desc=[]\n",
    "for i in product[0:35]:\n",
    "    product_desc.append(i.text)\n",
    "\n",
    "price=driver4.find_elements(\"xpath\",'//div[@class=\"_30jeq3\"]')\n",
    "product_price=[]\n",
    "for i in price[0:35]:\n",
    "    product_price.append(i.text)\n",
    "\n",
    "price_off=driver4.find_elements(\"xpath\",'//div[@class=\"_3Ay6Sb\"]')\n",
    "Discount=[]\n",
    "for i in price_off[0:35]:\n",
    "    Discount.append(i.text)"
   ]
  },
  {
   "cell_type": "code",
   "execution_count": 90,
   "id": "65d5e045",
   "metadata": {},
   "outputs": [
    {
     "name": "stdout",
     "output_type": "stream",
     "text": [
      "35 35 35 35\n"
     ]
    }
   ],
   "source": [
    "print(len(brand_name),len(product_desc),len(product_price),len(Discount))"
   ]
  },
  {
   "cell_type": "code",
   "execution_count": 91,
   "id": "c8abb01f",
   "metadata": {},
   "outputs": [
    {
     "data": {
      "text/html": [
       "<div>\n",
       "<style scoped>\n",
       "    .dataframe tbody tr th:only-of-type {\n",
       "        vertical-align: middle;\n",
       "    }\n",
       "\n",
       "    .dataframe tbody tr th {\n",
       "        vertical-align: top;\n",
       "    }\n",
       "\n",
       "    .dataframe thead th {\n",
       "        text-align: right;\n",
       "    }\n",
       "</style>\n",
       "<table border=\"1\" class=\"dataframe\">\n",
       "  <thead>\n",
       "    <tr style=\"text-align: right;\">\n",
       "      <th></th>\n",
       "      <th>Brand Name</th>\n",
       "      <th>Product Description</th>\n",
       "      <th>Price</th>\n",
       "      <th>Discount</th>\n",
       "    </tr>\n",
       "  </thead>\n",
       "  <tbody>\n",
       "    <tr>\n",
       "      <th>0</th>\n",
       "      <td>CART2DEAL</td>\n",
       "      <td>UV Protection Retro Square Sunglasses (54)</td>\n",
       "      <td>₹1,244</td>\n",
       "      <td>53% off</td>\n",
       "    </tr>\n",
       "    <tr>\n",
       "      <th>1</th>\n",
       "      <td>IRUS</td>\n",
       "      <td>UV Protection Wayfarer Sunglasses (Free Size)</td>\n",
       "      <td>₹637</td>\n",
       "      <td>14% off</td>\n",
       "    </tr>\n",
       "    <tr>\n",
       "      <th>2</th>\n",
       "      <td>Fastrack</td>\n",
       "      <td>UV Protection Cat-eye, Retro Square, Oval, Rou...</td>\n",
       "      <td>₹599</td>\n",
       "      <td>40% off</td>\n",
       "    </tr>\n",
       "    <tr>\n",
       "      <th>3</th>\n",
       "      <td>Elligator</td>\n",
       "      <td>UV Protection Rectangular Sunglasses (Free Size)</td>\n",
       "      <td>₹149</td>\n",
       "      <td>75% off</td>\n",
       "    </tr>\n",
       "    <tr>\n",
       "      <th>4</th>\n",
       "      <td>Fastrack</td>\n",
       "      <td>UV Protection Cat-eye, Retro Square, Oval, Rou...</td>\n",
       "      <td>₹499</td>\n",
       "      <td>37% off</td>\n",
       "    </tr>\n",
       "    <tr>\n",
       "      <th>5</th>\n",
       "      <td>Elligator</td>\n",
       "      <td>UV Protection, Polarized, Mirrored Rectangular...</td>\n",
       "      <td>₹129</td>\n",
       "      <td>87% off</td>\n",
       "    </tr>\n",
       "    <tr>\n",
       "      <th>6</th>\n",
       "      <td>SHAAH COLLECTIONS</td>\n",
       "      <td>UV Protection, Gradient Round Sunglasses (Free...</td>\n",
       "      <td>₹129</td>\n",
       "      <td>92% off</td>\n",
       "    </tr>\n",
       "    <tr>\n",
       "      <th>7</th>\n",
       "      <td>ROZZETTA CRAFT</td>\n",
       "      <td>UV Protection Retro Square Sunglasses (53)</td>\n",
       "      <td>₹391</td>\n",
       "      <td>80% off</td>\n",
       "    </tr>\n",
       "    <tr>\n",
       "      <th>8</th>\n",
       "      <td>PHENOMENAL</td>\n",
       "      <td>UV Protection Round Sunglasses (54)</td>\n",
       "      <td>₹129</td>\n",
       "      <td>87% off</td>\n",
       "    </tr>\n",
       "    <tr>\n",
       "      <th>9</th>\n",
       "      <td>Elligator</td>\n",
       "      <td>Riding Glasses, Night Vision Spectacle Sunglas...</td>\n",
       "      <td>₹229</td>\n",
       "      <td>90% off</td>\n",
       "    </tr>\n",
       "    <tr>\n",
       "      <th>10</th>\n",
       "      <td>LIZA ANGEL</td>\n",
       "      <td>UV Protection Wayfarer Sunglasses (Free Size)</td>\n",
       "      <td>₹174</td>\n",
       "      <td>82% off</td>\n",
       "    </tr>\n",
       "    <tr>\n",
       "      <th>11</th>\n",
       "      <td>Dervin</td>\n",
       "      <td>UV Protection Aviator Sunglasses (58)</td>\n",
       "      <td>₹224</td>\n",
       "      <td>85% off</td>\n",
       "    </tr>\n",
       "    <tr>\n",
       "      <th>12</th>\n",
       "      <td>PIRASO</td>\n",
       "      <td>UV Protection Rectangular Sunglasses (Free Size)</td>\n",
       "      <td>₹274</td>\n",
       "      <td>89% off</td>\n",
       "    </tr>\n",
       "    <tr>\n",
       "      <th>13</th>\n",
       "      <td>SUNBEE</td>\n",
       "      <td>UV Protection Wayfarer Sunglasses (59)</td>\n",
       "      <td>₹129</td>\n",
       "      <td>87% off</td>\n",
       "    </tr>\n",
       "    <tr>\n",
       "      <th>14</th>\n",
       "      <td>VINCENT CHASE</td>\n",
       "      <td>UV Protection Rectangular Sunglasses (Free Size)</td>\n",
       "      <td>₹599</td>\n",
       "      <td>70% off</td>\n",
       "    </tr>\n",
       "    <tr>\n",
       "      <th>15</th>\n",
       "      <td>CART2DEAL</td>\n",
       "      <td>Gradient, UV Protection Wayfarer Sunglasses (F...</td>\n",
       "      <td>₹1,244</td>\n",
       "      <td>53% off</td>\n",
       "    </tr>\n",
       "    <tr>\n",
       "      <th>16</th>\n",
       "      <td>New Specs</td>\n",
       "      <td>UV Protection Round Sunglasses (53)</td>\n",
       "      <td>₹259</td>\n",
       "      <td>90% off</td>\n",
       "    </tr>\n",
       "    <tr>\n",
       "      <th>17</th>\n",
       "      <td>Fastrack</td>\n",
       "      <td>UV Protection Aviator Sunglasses (88)</td>\n",
       "      <td>₹579</td>\n",
       "      <td>35% off</td>\n",
       "    </tr>\n",
       "    <tr>\n",
       "      <th>18</th>\n",
       "      <td>Elligator</td>\n",
       "      <td>UV Protection Aviator Sunglasses (55)</td>\n",
       "      <td>₹149</td>\n",
       "      <td>85% off</td>\n",
       "    </tr>\n",
       "    <tr>\n",
       "      <th>19</th>\n",
       "      <td>Silver Kartz</td>\n",
       "      <td>Night Vision, UV Protection Round Sunglasses (54)</td>\n",
       "      <td>₹266</td>\n",
       "      <td>77% off</td>\n",
       "    </tr>\n",
       "    <tr>\n",
       "      <th>20</th>\n",
       "      <td>ROZZETTA CRAFT</td>\n",
       "      <td>UV Protection Wayfarer Sunglasses (50)</td>\n",
       "      <td>₹649</td>\n",
       "      <td>74% off</td>\n",
       "    </tr>\n",
       "    <tr>\n",
       "      <th>21</th>\n",
       "      <td>SRPM</td>\n",
       "      <td>UV Protection Rectangular Sunglasses (52)</td>\n",
       "      <td>₹179</td>\n",
       "      <td>82% off</td>\n",
       "    </tr>\n",
       "    <tr>\n",
       "      <th>22</th>\n",
       "      <td>SRPM</td>\n",
       "      <td>UV Protection Aviator Sunglasses (Free Size)</td>\n",
       "      <td>₹149</td>\n",
       "      <td>88% off</td>\n",
       "    </tr>\n",
       "    <tr>\n",
       "      <th>23</th>\n",
       "      <td>Soul Hub</td>\n",
       "      <td>UV Protection, Polarized Rectangular Sunglasse...</td>\n",
       "      <td>₹1,215</td>\n",
       "      <td>55% off</td>\n",
       "    </tr>\n",
       "    <tr>\n",
       "      <th>24</th>\n",
       "      <td>PIRASO</td>\n",
       "      <td>UV Protection Aviator Sunglasses (54)</td>\n",
       "      <td>₹182</td>\n",
       "      <td>88% off</td>\n",
       "    </tr>\n",
       "    <tr>\n",
       "      <th>25</th>\n",
       "      <td>Fastrack</td>\n",
       "      <td>Others Wayfarer, Retro Square Sunglasses (50)</td>\n",
       "      <td>₹579</td>\n",
       "      <td>35% off</td>\n",
       "    </tr>\n",
       "    <tr>\n",
       "      <th>26</th>\n",
       "      <td>LIZA ANGEL</td>\n",
       "      <td>Night Vision, Polarized, UV Protection, Riding...</td>\n",
       "      <td>₹129</td>\n",
       "      <td>87% off</td>\n",
       "    </tr>\n",
       "    <tr>\n",
       "      <th>27</th>\n",
       "      <td>CART2DEAL</td>\n",
       "      <td>UV Protection Retro Square Sunglasses (54)</td>\n",
       "      <td>₹1,244</td>\n",
       "      <td>53% off</td>\n",
       "    </tr>\n",
       "    <tr>\n",
       "      <th>28</th>\n",
       "      <td>PIRASO</td>\n",
       "      <td>Riding Glasses, UV Protection, Night Vision Sp...</td>\n",
       "      <td>₹244</td>\n",
       "      <td>84% off</td>\n",
       "    </tr>\n",
       "    <tr>\n",
       "      <th>29</th>\n",
       "      <td>SRPM</td>\n",
       "      <td>UV Protection Clubmaster Sunglasses (54)</td>\n",
       "      <td>₹129</td>\n",
       "      <td>87% off</td>\n",
       "    </tr>\n",
       "    <tr>\n",
       "      <th>30</th>\n",
       "      <td>EYELLUSION</td>\n",
       "      <td>UV Protection, Polarized Rectangular Sunglasse...</td>\n",
       "      <td>₹281</td>\n",
       "      <td>87% off</td>\n",
       "    </tr>\n",
       "    <tr>\n",
       "      <th>31</th>\n",
       "      <td>Prism</td>\n",
       "      <td>UV Protection Cat-eye Sunglasses (Free Size)</td>\n",
       "      <td>₹329</td>\n",
       "      <td>89% off</td>\n",
       "    </tr>\n",
       "    <tr>\n",
       "      <th>32</th>\n",
       "      <td>Rich Club</td>\n",
       "      <td>UV Protection Shield Sunglasses (Free Size)</td>\n",
       "      <td>₹258</td>\n",
       "      <td>63% off</td>\n",
       "    </tr>\n",
       "    <tr>\n",
       "      <th>33</th>\n",
       "      <td>LIZA ANGEL</td>\n",
       "      <td>UV Protection Aviator, Wayfarer Sunglasses (54)</td>\n",
       "      <td>₹129</td>\n",
       "      <td>74% off</td>\n",
       "    </tr>\n",
       "    <tr>\n",
       "      <th>34</th>\n",
       "      <td>PIRASO</td>\n",
       "      <td>UV Protection Retro Square Sunglasses (Free Size)</td>\n",
       "      <td>₹257</td>\n",
       "      <td>83% off</td>\n",
       "    </tr>\n",
       "  </tbody>\n",
       "</table>\n",
       "</div>"
      ],
      "text/plain": [
       "           Brand Name                                Product Description  \\\n",
       "0           CART2DEAL         UV Protection Retro Square Sunglasses (54)   \n",
       "1                IRUS      UV Protection Wayfarer Sunglasses (Free Size)   \n",
       "2            Fastrack  UV Protection Cat-eye, Retro Square, Oval, Rou...   \n",
       "3           Elligator   UV Protection Rectangular Sunglasses (Free Size)   \n",
       "4            Fastrack  UV Protection Cat-eye, Retro Square, Oval, Rou...   \n",
       "5           Elligator  UV Protection, Polarized, Mirrored Rectangular...   \n",
       "6   SHAAH COLLECTIONS  UV Protection, Gradient Round Sunglasses (Free...   \n",
       "7      ROZZETTA CRAFT         UV Protection Retro Square Sunglasses (53)   \n",
       "8          PHENOMENAL                UV Protection Round Sunglasses (54)   \n",
       "9           Elligator  Riding Glasses, Night Vision Spectacle Sunglas...   \n",
       "10         LIZA ANGEL      UV Protection Wayfarer Sunglasses (Free Size)   \n",
       "11             Dervin              UV Protection Aviator Sunglasses (58)   \n",
       "12             PIRASO   UV Protection Rectangular Sunglasses (Free Size)   \n",
       "13             SUNBEE             UV Protection Wayfarer Sunglasses (59)   \n",
       "14      VINCENT CHASE   UV Protection Rectangular Sunglasses (Free Size)   \n",
       "15          CART2DEAL  Gradient, UV Protection Wayfarer Sunglasses (F...   \n",
       "16          New Specs                UV Protection Round Sunglasses (53)   \n",
       "17           Fastrack              UV Protection Aviator Sunglasses (88)   \n",
       "18          Elligator              UV Protection Aviator Sunglasses (55)   \n",
       "19       Silver Kartz  Night Vision, UV Protection Round Sunglasses (54)   \n",
       "20     ROZZETTA CRAFT             UV Protection Wayfarer Sunglasses (50)   \n",
       "21               SRPM          UV Protection Rectangular Sunglasses (52)   \n",
       "22               SRPM       UV Protection Aviator Sunglasses (Free Size)   \n",
       "23           Soul Hub  UV Protection, Polarized Rectangular Sunglasse...   \n",
       "24             PIRASO              UV Protection Aviator Sunglasses (54)   \n",
       "25           Fastrack      Others Wayfarer, Retro Square Sunglasses (50)   \n",
       "26         LIZA ANGEL  Night Vision, Polarized, UV Protection, Riding...   \n",
       "27          CART2DEAL         UV Protection Retro Square Sunglasses (54)   \n",
       "28             PIRASO  Riding Glasses, UV Protection, Night Vision Sp...   \n",
       "29               SRPM           UV Protection Clubmaster Sunglasses (54)   \n",
       "30         EYELLUSION  UV Protection, Polarized Rectangular Sunglasse...   \n",
       "31              Prism       UV Protection Cat-eye Sunglasses (Free Size)   \n",
       "32          Rich Club        UV Protection Shield Sunglasses (Free Size)   \n",
       "33         LIZA ANGEL    UV Protection Aviator, Wayfarer Sunglasses (54)   \n",
       "34             PIRASO  UV Protection Retro Square Sunglasses (Free Size)   \n",
       "\n",
       "     Price Discount  \n",
       "0   ₹1,244  53% off  \n",
       "1     ₹637  14% off  \n",
       "2     ₹599  40% off  \n",
       "3     ₹149  75% off  \n",
       "4     ₹499  37% off  \n",
       "5     ₹129  87% off  \n",
       "6     ₹129  92% off  \n",
       "7     ₹391  80% off  \n",
       "8     ₹129  87% off  \n",
       "9     ₹229  90% off  \n",
       "10    ₹174  82% off  \n",
       "11    ₹224  85% off  \n",
       "12    ₹274  89% off  \n",
       "13    ₹129  87% off  \n",
       "14    ₹599  70% off  \n",
       "15  ₹1,244  53% off  \n",
       "16    ₹259  90% off  \n",
       "17    ₹579  35% off  \n",
       "18    ₹149  85% off  \n",
       "19    ₹266  77% off  \n",
       "20    ₹649  74% off  \n",
       "21    ₹179  82% off  \n",
       "22    ₹149  88% off  \n",
       "23  ₹1,215  55% off  \n",
       "24    ₹182  88% off  \n",
       "25    ₹579  35% off  \n",
       "26    ₹129  87% off  \n",
       "27  ₹1,244  53% off  \n",
       "28    ₹244  84% off  \n",
       "29    ₹129  87% off  \n",
       "30    ₹281  87% off  \n",
       "31    ₹329  89% off  \n",
       "32    ₹258  63% off  \n",
       "33    ₹129  74% off  \n",
       "34    ₹257  83% off  "
      ]
     },
     "execution_count": 91,
     "metadata": {},
     "output_type": "execute_result"
    }
   ],
   "source": [
    "product_1=pd.DataFrame({'Brand Name':brand_name,'Product Description':product_desc,'Price':product_price,'Discount':Discount})\n",
    "product_1[:40]"
   ]
  },
  {
   "cell_type": "code",
   "execution_count": 92,
   "id": "332be951",
   "metadata": {},
   "outputs": [],
   "source": [
    "page_2=driver4.find_element(\"xpath\",'//a[@class=\"_1LKTO3\"]')\n",
    "page_2.click()"
   ]
  },
  {
   "cell_type": "code",
   "execution_count": 95,
   "id": "b7364df0",
   "metadata": {},
   "outputs": [],
   "source": [
    "brand=driver4.find_elements(\"xpath\",'//div[@class=\"_2WkVRV\"]')\n",
    "brand_name=[]\n",
    "for i in brand[:37]:\n",
    "    brand_name.append(i.text)\n",
    "\n",
    "product=driver4.find_elements(\"xpath\",'//a[@class=\"IRpwTa\"]')\n",
    "product_desc=[]\n",
    "for i in product[:37]:\n",
    "    product_desc.append(i.text)\n",
    "\n",
    "price=driver4.find_elements(\"xpath\",'//div[@class=\"_30jeq3\"]')\n",
    "product_price=[]\n",
    "for i in price[:37]:\n",
    "    product_price.append(i.text)\n",
    "    \n",
    "price_off=driver4.find_elements(\"xpath\",'//div[@class=\"_3Ay6Sb\"]')\n",
    "Discount=[]\n",
    "for i in price_off[:37]:\n",
    "    Discount.append(i.text)"
   ]
  },
  {
   "cell_type": "code",
   "execution_count": 96,
   "id": "e5c55b06",
   "metadata": {},
   "outputs": [
    {
     "name": "stdout",
     "output_type": "stream",
     "text": [
      "37 37 37 37\n"
     ]
    }
   ],
   "source": [
    "print(len(brand_name),len(product_desc),len(product_price),len(Discount))"
   ]
  },
  {
   "cell_type": "code",
   "execution_count": 98,
   "id": "39d7cd41",
   "metadata": {},
   "outputs": [],
   "source": [
    "product_2=pd.DataFrame({'Brand Name':brand_name[:37],'Product Description':product_desc[:37],'Price':product_price[:37],'Discount':Discount[:37]})"
   ]
  },
  {
   "cell_type": "code",
   "execution_count": 104,
   "id": "62a86181",
   "metadata": {},
   "outputs": [],
   "source": [
    "page_3=driver4.find_element(\"xpath\",'//a[@class=\"_1LKTO3\"]').click()"
   ]
  },
  {
   "cell_type": "code",
   "execution_count": 107,
   "id": "6c13577e",
   "metadata": {},
   "outputs": [],
   "source": [
    "brand=driver4.find_elements(\"xpath\",'//div[@class=\"_2WkVRV\"]')\n",
    "brand_name=[]\n",
    "for i in brand[:36]:\n",
    "    brand_name.append(i.text)\n",
    "    \n",
    "product=driver4.find_elements(\"xpath\",'//a[@class=\"IRpwTa\"]')\n",
    "product_desc=[]\n",
    "for i in product[:36]:\n",
    "    product_desc.append(i.text)\n",
    "    \n",
    "price=driver4.find_elements(\"xpath\",'//div[@class=\"_30jeq3\"]')\n",
    "product_price=[]\n",
    "for i in price[:36]:\n",
    "    product_price.append(i.text)\n",
    "    \n",
    "price_off=driver4.find_elements(\"xpath\",'//div[@class=\"_3Ay6Sb\"]')\n",
    "Discount=[]\n",
    "for i in price_off[:36]:\n",
    "    Discount.append(i.text)\n",
    "    \n",
    "product_3=pd.DataFrame({'Brand Name':brand_name[:36],'Product Description':product_desc[:36],'Price':product_price[:36],'Discount':Discount[:36]})"
   ]
  },
  {
   "cell_type": "code",
   "execution_count": 108,
   "id": "788e235e",
   "metadata": {},
   "outputs": [
    {
     "name": "stdout",
     "output_type": "stream",
     "text": [
      "36 36 36 36\n"
     ]
    }
   ],
   "source": [
    "print(len(brand_name),len(product_desc),len(product_price),len(Discount))"
   ]
  },
  {
   "cell_type": "code",
   "execution_count": 109,
   "id": "5ac7833d",
   "metadata": {},
   "outputs": [],
   "source": [
    "page_4=driver4.find_element(\"xpath\",'//a[@class=\"_1LKTO3\"]').click()"
   ]
  },
  {
   "cell_type": "code",
   "execution_count": 112,
   "id": "71c59036",
   "metadata": {},
   "outputs": [],
   "source": [
    "brand=driver4.find_elements(\"xpath\",'//div[@class=\"_2WkVRV\"]')\n",
    "brand_name=[]\n",
    "for i in brand[:39]:\n",
    "    brand_name.append(i.text)\n",
    "    \n",
    "product=driver4.find_elements(\"xpath\",'//a[@class=\"IRpwTa\"]')\n",
    "product_desc=[]\n",
    "for i in product[:39]:\n",
    "    product_desc.append(i.text)\n",
    "    \n",
    "price=driver4.find_elements(\"xpath\",'//div[@class=\"_30jeq3\"]')\n",
    "product_price=[]\n",
    "for i in price[:39]:\n",
    "    product_price.append(i.text)\n",
    "    \n",
    "price_off=driver4.find_elements(\"xpath\",'//div[@class=\"_3Ay6Sb\"]')\n",
    "Discount=[]\n",
    "for i in price_off[:39]:\n",
    "    Discount.append(i.text)\n",
    "    \n",
    "product_4=pd.DataFrame({'Brand Name':brand_name[:39],'Product Description':product_desc[:39],'Price':product_price[:39],'Discount':Discount[:39]})"
   ]
  },
  {
   "cell_type": "code",
   "execution_count": 113,
   "id": "5ac62e10",
   "metadata": {},
   "outputs": [
    {
     "name": "stdout",
     "output_type": "stream",
     "text": [
      "39 39 39 39\n"
     ]
    }
   ],
   "source": [
    "print(len(brand_name),len(product_desc),len(product_price),len(Discount))"
   ]
  },
  {
   "cell_type": "code",
   "execution_count": 114,
   "id": "b8b15775",
   "metadata": {},
   "outputs": [],
   "source": [
    "product=pd.concat([product_1,product_2,product_3], ignore_index=True)"
   ]
  },
  {
   "cell_type": "code",
   "execution_count": 115,
   "id": "b7bab3d7",
   "metadata": {},
   "outputs": [
    {
     "name": "stdout",
     "output_type": "stream",
     "text": [
      "108\n"
     ]
    }
   ],
   "source": [
    "print(len(product))"
   ]
  },
  {
   "cell_type": "code",
   "execution_count": 116,
   "id": "d77c539c",
   "metadata": {},
   "outputs": [
    {
     "data": {
      "text/html": [
       "<div>\n",
       "<style scoped>\n",
       "    .dataframe tbody tr th:only-of-type {\n",
       "        vertical-align: middle;\n",
       "    }\n",
       "\n",
       "    .dataframe tbody tr th {\n",
       "        vertical-align: top;\n",
       "    }\n",
       "\n",
       "    .dataframe thead th {\n",
       "        text-align: right;\n",
       "    }\n",
       "</style>\n",
       "<table border=\"1\" class=\"dataframe\">\n",
       "  <thead>\n",
       "    <tr style=\"text-align: right;\">\n",
       "      <th></th>\n",
       "      <th>Brand Name</th>\n",
       "      <th>Product Description</th>\n",
       "      <th>Price</th>\n",
       "      <th>Discount</th>\n",
       "    </tr>\n",
       "  </thead>\n",
       "  <tbody>\n",
       "    <tr>\n",
       "      <th>0</th>\n",
       "      <td>CART2DEAL</td>\n",
       "      <td>UV Protection Retro Square Sunglasses (54)</td>\n",
       "      <td>₹1,244</td>\n",
       "      <td>53% off</td>\n",
       "    </tr>\n",
       "    <tr>\n",
       "      <th>1</th>\n",
       "      <td>IRUS</td>\n",
       "      <td>UV Protection Wayfarer Sunglasses (Free Size)</td>\n",
       "      <td>₹637</td>\n",
       "      <td>14% off</td>\n",
       "    </tr>\n",
       "    <tr>\n",
       "      <th>2</th>\n",
       "      <td>Fastrack</td>\n",
       "      <td>UV Protection Cat-eye, Retro Square, Oval, Rou...</td>\n",
       "      <td>₹599</td>\n",
       "      <td>40% off</td>\n",
       "    </tr>\n",
       "    <tr>\n",
       "      <th>3</th>\n",
       "      <td>Elligator</td>\n",
       "      <td>UV Protection Rectangular Sunglasses (Free Size)</td>\n",
       "      <td>₹149</td>\n",
       "      <td>75% off</td>\n",
       "    </tr>\n",
       "    <tr>\n",
       "      <th>4</th>\n",
       "      <td>Fastrack</td>\n",
       "      <td>UV Protection Cat-eye, Retro Square, Oval, Rou...</td>\n",
       "      <td>₹499</td>\n",
       "      <td>37% off</td>\n",
       "    </tr>\n",
       "    <tr>\n",
       "      <th>...</th>\n",
       "      <td>...</td>\n",
       "      <td>...</td>\n",
       "      <td>...</td>\n",
       "      <td>...</td>\n",
       "    </tr>\n",
       "    <tr>\n",
       "      <th>95</th>\n",
       "      <td>Soul Hub</td>\n",
       "      <td>UV Protection Retro Square Sunglasses (Free Size)</td>\n",
       "      <td>₹1,215</td>\n",
       "      <td>55% off</td>\n",
       "    </tr>\n",
       "    <tr>\n",
       "      <th>96</th>\n",
       "      <td>NuVew</td>\n",
       "      <td>UV Protection Wayfarer Sunglasses (Free Size)</td>\n",
       "      <td>₹108</td>\n",
       "      <td>87% off</td>\n",
       "    </tr>\n",
       "    <tr>\n",
       "      <th>97</th>\n",
       "      <td>New Specs</td>\n",
       "      <td>UV Protection Aviator Sunglasses (54)</td>\n",
       "      <td>₹129</td>\n",
       "      <td>87% off</td>\n",
       "    </tr>\n",
       "    <tr>\n",
       "      <th>98</th>\n",
       "      <td>Fastrack</td>\n",
       "      <td>UV Protection, Mirrored Wayfarer, Rectangular ...</td>\n",
       "      <td>₹519</td>\n",
       "      <td>35% off</td>\n",
       "    </tr>\n",
       "    <tr>\n",
       "      <th>99</th>\n",
       "      <td>CART2DEAL</td>\n",
       "      <td>Gradient, UV Protection Wayfarer Sunglasses (F...</td>\n",
       "      <td>₹1,244</td>\n",
       "      <td>53% off</td>\n",
       "    </tr>\n",
       "  </tbody>\n",
       "</table>\n",
       "<p>100 rows × 4 columns</p>\n",
       "</div>"
      ],
      "text/plain": [
       "   Brand Name                                Product Description   Price  \\\n",
       "0   CART2DEAL         UV Protection Retro Square Sunglasses (54)  ₹1,244   \n",
       "1        IRUS      UV Protection Wayfarer Sunglasses (Free Size)    ₹637   \n",
       "2    Fastrack  UV Protection Cat-eye, Retro Square, Oval, Rou...    ₹599   \n",
       "3   Elligator   UV Protection Rectangular Sunglasses (Free Size)    ₹149   \n",
       "4    Fastrack  UV Protection Cat-eye, Retro Square, Oval, Rou...    ₹499   \n",
       "..        ...                                                ...     ...   \n",
       "95   Soul Hub  UV Protection Retro Square Sunglasses (Free Size)  ₹1,215   \n",
       "96      NuVew      UV Protection Wayfarer Sunglasses (Free Size)    ₹108   \n",
       "97  New Specs              UV Protection Aviator Sunglasses (54)    ₹129   \n",
       "98   Fastrack  UV Protection, Mirrored Wayfarer, Rectangular ...    ₹519   \n",
       "99  CART2DEAL  Gradient, UV Protection Wayfarer Sunglasses (F...  ₹1,244   \n",
       "\n",
       "   Discount  \n",
       "0   53% off  \n",
       "1   14% off  \n",
       "2   40% off  \n",
       "3   75% off  \n",
       "4   37% off  \n",
       "..      ...  \n",
       "95  55% off  \n",
       "96  87% off  \n",
       "97  87% off  \n",
       "98  35% off  \n",
       "99  53% off  \n",
       "\n",
       "[100 rows x 4 columns]"
      ]
     },
     "execution_count": 116,
     "metadata": {},
     "output_type": "execute_result"
    }
   ],
   "source": [
    "product[:100]"
   ]
  },
  {
   "cell_type": "markdown",
   "id": "96d44d29",
   "metadata": {},
   "source": [
    "## Q5: Scrape 100 reviews data from flipkart.com for iphone11 phone. You have to go the link: https://www.flipkart.com/apple-iphone-11-black-64-gb/product\u0002reviews/itm4e5041ba101fd pid=MOBFWQ6BXGJCEYNY&lid=LSTMOBFWQ6BXGJCEYNYZXSHRJ&market place=FLIPKART"
   ]
  },
  {
   "cell_type": "markdown",
   "id": "5cf7b61d",
   "metadata": {},
   "source": [
    "# ..........please note due to time constraint I had to use example of Nokiac2"
   ]
  },
  {
   "cell_type": "code",
   "execution_count": 123,
   "id": "24bb7695",
   "metadata": {},
   "outputs": [],
   "source": [
    "driver5=webdriver.Chrome('chromedriver.exe')\n",
    "driver5.get('https://www.flipkart.com/')"
   ]
  },
  {
   "cell_type": "code",
   "execution_count": 124,
   "id": "ce65baa3",
   "metadata": {},
   "outputs": [],
   "source": [
    "driver5.maximize_window()"
   ]
  },
  {
   "cell_type": "code",
   "execution_count": 125,
   "id": "b34f41fb",
   "metadata": {},
   "outputs": [],
   "source": [
    "pop_close = driver5.find_element(\"xpath\",\"/html/body/div[2]/div/div/button\").click()"
   ]
  },
  {
   "cell_type": "code",
   "execution_count": 126,
   "id": "f14c5839",
   "metadata": {},
   "outputs": [],
   "source": [
    "search_product2=driver5.find_element(By.CLASS_NAME,'_3704LK')\n",
    "search_product2.send_keys(\"nokiaC2\")"
   ]
  },
  {
   "cell_type": "code",
   "execution_count": 127,
   "id": "9ed2182b",
   "metadata": {},
   "outputs": [],
   "source": [
    "search_button5= driver5.find_element(By.CLASS_NAME,'L0Z3Pu')\n",
    "search_button5.click()"
   ]
  },
  {
   "cell_type": "code",
   "execution_count": 128,
   "id": "7f2029d5",
   "metadata": {},
   "outputs": [],
   "source": [
    "driver5.get('https://www.flipkart.com/nokia-c-30-green-32-gb/p/itm47608c0b7481f?pid=MOBG7R5FR29FFHYF&lid=LSTMOBG7R5FR29FFHYF0K3LZ2&marketplace=FLIPKART&q=nokiaC2&store=tyy%2F4io&srno=s_1_1&otracker=search&otracker1=search&fm=organic&iid=3c449f49-0ccd-46be-8243-ca7e17eea541.MOBG7R5FR29FFHYF.SEARCH&ppt=hp&ppn=homepage&ssid=ch4ma6204g0000001674409610854&qH=06cd677f807476e6')"
   ]
  },
  {
   "cell_type": "code",
   "execution_count": 129,
   "id": "d60511b9",
   "metadata": {},
   "outputs": [],
   "source": [
    "All_reviews=driver5.find_element(\"xpath\",'//div[@class=\"_3UAT2v _16PBlm\"]').click()"
   ]
  },
  {
   "cell_type": "code",
   "execution_count": 133,
   "id": "a4859807",
   "metadata": {},
   "outputs": [],
   "source": [
    "rating_tag1=driver5.find_elements(\"xpath\",'//div[@class=\"_3LWZlK _1BLPMq\"]')\n",
    "rating1=[]\n",
    "for i in rating_tag1[:6]:\n",
    "    rating1.append(i.text)\n",
    "\n",
    "review_sum1=driver5.find_elements(\"xpath\",'//p[@class=\"_2-N8zT\"]')\n",
    "review1=[]\n",
    "for i in review_sum1[:6]:\n",
    "    review1.append(i.text)\n",
    "\n",
    "review_full1=driver5.find_elements(\"xpath\",'//div[@class=\"t-ZTKy\"]')\n",
    "full_review1=[]\n",
    "for i in review_full1[:6]:\n",
    "    full_review1.append(i.text.replace('\\n',' , '))"
   ]
  },
  {
   "cell_type": "code",
   "execution_count": 134,
   "id": "8ff231f6",
   "metadata": {},
   "outputs": [
    {
     "name": "stdout",
     "output_type": "stream",
     "text": [
      "6 6 6\n"
     ]
    }
   ],
   "source": [
    "print(len(rating1),len(review1),len(full_review1))"
   ]
  },
  {
   "cell_type": "code",
   "execution_count": 135,
   "id": "c1a0c014",
   "metadata": {},
   "outputs": [],
   "source": [
    "Nokia_reviews1=pd.DataFrame({'Rating':rating1,'Review Summary':review1,'Full Review':full_review1})"
   ]
  },
  {
   "cell_type": "code",
   "execution_count": 140,
   "id": "6e46c595",
   "metadata": {},
   "outputs": [
    {
     "data": {
      "text/html": [
       "<div>\n",
       "<style scoped>\n",
       "    .dataframe tbody tr th:only-of-type {\n",
       "        vertical-align: middle;\n",
       "    }\n",
       "\n",
       "    .dataframe tbody tr th {\n",
       "        vertical-align: top;\n",
       "    }\n",
       "\n",
       "    .dataframe thead th {\n",
       "        text-align: right;\n",
       "    }\n",
       "</style>\n",
       "<table border=\"1\" class=\"dataframe\">\n",
       "  <thead>\n",
       "    <tr style=\"text-align: right;\">\n",
       "      <th></th>\n",
       "      <th>Rating</th>\n",
       "      <th>Review Summary</th>\n",
       "      <th>Full Review</th>\n",
       "    </tr>\n",
       "  </thead>\n",
       "  <tbody>\n",
       "    <tr>\n",
       "      <th>0</th>\n",
       "      <td>5</td>\n",
       "      <td>Brilliant</td>\n",
       "      <td>Buying a Nokia refreshed my memories of the go...</td>\n",
       "    </tr>\n",
       "    <tr>\n",
       "      <th>1</th>\n",
       "      <td>5</td>\n",
       "      <td>Just wow!</td>\n",
       "      <td>Good product</td>\n",
       "    </tr>\n",
       "    <tr>\n",
       "      <th>2</th>\n",
       "      <td>5</td>\n",
       "      <td>Did not meet expectations</td>\n",
       "      <td>Not that good</td>\n",
       "    </tr>\n",
       "    <tr>\n",
       "      <th>3</th>\n",
       "      <td>3</td>\n",
       "      <td>Just wow!</td>\n",
       "      <td>Good</td>\n",
       "    </tr>\n",
       "    <tr>\n",
       "      <th>4</th>\n",
       "      <td>5</td>\n",
       "      <td>Fair</td>\n",
       "      <td>Battery gets very heat fast</td>\n",
       "    </tr>\n",
       "    <tr>\n",
       "      <th>5</th>\n",
       "      <td>4</td>\n",
       "      <td>Best in the market!</td>\n",
       "      <td>Good</td>\n",
       "    </tr>\n",
       "  </tbody>\n",
       "</table>\n",
       "</div>"
      ],
      "text/plain": [
       "  Rating             Review Summary  \\\n",
       "0      5                  Brilliant   \n",
       "1      5                  Just wow!   \n",
       "2      5  Did not meet expectations   \n",
       "3      3                  Just wow!   \n",
       "4      5                       Fair   \n",
       "5      4        Best in the market!   \n",
       "\n",
       "                                         Full Review  \n",
       "0  Buying a Nokia refreshed my memories of the go...  \n",
       "1                                       Good product  \n",
       "2                                      Not that good  \n",
       "3                                               Good  \n",
       "4                        Battery gets very heat fast  \n",
       "5                                               Good  "
      ]
     },
     "execution_count": 140,
     "metadata": {},
     "output_type": "execute_result"
    }
   ],
   "source": [
    "Nokia_reviews1=pd.concat([Nokia_reviews1], ignore_index=True)\n",
    "Nokia_reviews1[:6]"
   ]
  },
  {
   "cell_type": "markdown",
   "id": "96442314",
   "metadata": {},
   "source": [
    "## Q6: Scrape data for first 100 sneakers you find when you visit flipkart.com and search for “sneakers” in the search field."
   ]
  },
  {
   "cell_type": "code",
   "execution_count": 141,
   "id": "3f55536c",
   "metadata": {},
   "outputs": [],
   "source": [
    "driver6=webdriver.Chrome('chromedriver.exe')\n",
    "driver6.get('https://www.flipkart.com/')"
   ]
  },
  {
   "cell_type": "code",
   "execution_count": 142,
   "id": "9b9fdc7c",
   "metadata": {},
   "outputs": [],
   "source": [
    "driver6.maximize_window()"
   ]
  },
  {
   "cell_type": "code",
   "execution_count": 143,
   "id": "fe511d33",
   "metadata": {},
   "outputs": [],
   "source": [
    "pop_close = driver6.find_element(\"xpath\",\"/html/body/div[2]/div/div/button\").click()"
   ]
  },
  {
   "cell_type": "code",
   "execution_count": 144,
   "id": "f7130776",
   "metadata": {},
   "outputs": [],
   "source": [
    "search_product6=driver6.find_element(By.CLASS_NAME,'_3704LK').send_keys(\"sneakers\")"
   ]
  },
  {
   "cell_type": "code",
   "execution_count": 145,
   "id": "35003690",
   "metadata": {},
   "outputs": [],
   "source": [
    "search_button6= driver6.find_element(By.CLASS_NAME,'L0Z3Pu').click()"
   ]
  },
  {
   "cell_type": "code",
   "execution_count": 146,
   "id": "d578a88d",
   "metadata": {},
   "outputs": [],
   "source": [
    "brand6=driver6.find_elements(\"xpath\",'//div[@class=\"_2WkVRV\"]')\n",
    "brand_name6=[]\n",
    "for i in brand6:\n",
    "    brand_name6.append(i.text)\n",
    "    \n",
    "product6=driver6.find_elements(\"xpath\",'//a[@class=\"IRpwTa\"]')\n",
    "product_desc6=[]\n",
    "for i in product6:\n",
    "    product_desc6.append(i.text)\n",
    "    \n",
    "price6=driver6.find_elements(\"xpath\",'//div[@class=\"_30jeq3\"]')\n",
    "product_price6=[]\n",
    "for i in price6:\n",
    "    product_price6.append(i.text)\n",
    "    \n",
    "price_off6=driver6.find_elements(\"xpath\",'//div[@class=\"_3Ay6Sb\"]')\n",
    "Discount6=[]\n",
    "for i in price_off6:\n",
    "    Discount6.append(i.text)"
   ]
  },
  {
   "cell_type": "code",
   "execution_count": 147,
   "id": "ab951e8a",
   "metadata": {},
   "outputs": [
    {
     "name": "stdout",
     "output_type": "stream",
     "text": [
      "39 40 40 40\n"
     ]
    }
   ],
   "source": [
    "print(len(product_desc6),len(product_price6),len(Discount6),len(brand_name6))"
   ]
  },
  {
   "cell_type": "code",
   "execution_count": 148,
   "id": "bf9dc8eb",
   "metadata": {},
   "outputs": [],
   "source": [
    "sneaker1=pd.DataFrame({'Brand Name':brand_name6[:30],'Product Description':product_desc6[:30], 'Product Price':product_price6[:30],'Discount':Discount6[:30]})"
   ]
  },
  {
   "cell_type": "code",
   "execution_count": 149,
   "id": "903ade70",
   "metadata": {},
   "outputs": [],
   "source": [
    "page_2=driver6.find_element(\"xpath\",'//a[@class=\"_1LKTO3\"]').click()"
   ]
  },
  {
   "cell_type": "code",
   "execution_count": 150,
   "id": "f77811fa",
   "metadata": {},
   "outputs": [],
   "source": [
    "brand6=driver6.find_elements(\"xpath\",'//div[@class=\"_2WkVRV\"]')\n",
    "brand_name6=[]\n",
    "for i in brand6:\n",
    "    brand_name6.append(i.text)\n",
    "    \n",
    "product6=driver6.find_elements(\"xpath\",'//a[@class=\"IRpwTa\"]')\n",
    "product_desc6=[]\n",
    "for i in product6:\n",
    "    product_desc6.append(i.text)\n",
    "    \n",
    "price6=driver6.find_elements(\"xpath\",'//div[@class=\"_30jeq3\"]')\n",
    "product_price6=[]\n",
    "for i in price6:\n",
    "    product_price6.append(i.text)\n",
    "    \n",
    "price_off6=driver6.find_elements(\"xpath\",'//div[@class=\"_3Ay6Sb\"]')\n",
    "Discount6=[]\n",
    "for i in price_off6:\n",
    "    Discount6.append(i.text)\n",
    "    \n",
    "sneaker2=pd.DataFrame({'Brand Name':brand_name6[:30],'Product Description':product_desc6[:30], 'Product Price':product_price6[:30],'Discount':Discount6[:30]})"
   ]
  },
  {
   "cell_type": "code",
   "execution_count": 151,
   "id": "ff5628de",
   "metadata": {},
   "outputs": [],
   "source": [
    "page_3=driver6.find_element(\"xpath\",'//a[@class=\"_1LKTO3\"]').click()"
   ]
  },
  {
   "cell_type": "code",
   "execution_count": 152,
   "id": "c219d62e",
   "metadata": {},
   "outputs": [],
   "source": [
    "brand6=driver6.find_elements(\"xpath\",'//div[@class=\"_2WkVRV\"]')\n",
    "brand_name6=[]\n",
    "for i in brand6:\n",
    "    brand_name6.append(i.text)\n",
    "    \n",
    "product6=driver6.find_elements(\"xpath\",'//a[@class=\"IRpwTa\"]')\n",
    "product_desc6=[]\n",
    "for i in product6:\n",
    "    product_desc6.append(i.text)\n",
    "    \n",
    "price6=driver6.find_elements(\"xpath\",'//div[@class=\"_30jeq3\"]')\n",
    "product_price6=[]\n",
    "for i in price6:\n",
    "    product_price6.append(i.text)\n",
    "    \n",
    "price_off6=driver6.find_elements(\"xpath\",'//div[@class=\"_3Ay6Sb\"]')\n",
    "Discount6=[]\n",
    "for i in price_off6:\n",
    "    Discount6.append(i.text)\n",
    "    \n",
    "sneaker3=pd.DataFrame({'Brand Name':brand_name6[:30],'Product Description':product_desc6[:30], 'Product Price':product_price6[:30],'Discount':Discount6[:30]})"
   ]
  },
  {
   "cell_type": "code",
   "execution_count": 153,
   "id": "6c45749b",
   "metadata": {},
   "outputs": [],
   "source": [
    "page_4=driver6.find_element(\"xpath\",'//a[@class=\"_1LKTO3\"]').click()"
   ]
  },
  {
   "cell_type": "code",
   "execution_count": 154,
   "id": "e2d9fa9b",
   "metadata": {},
   "outputs": [],
   "source": [
    "brand6=driver6.find_elements(\"xpath\",'//div[@class=\"_2WkVRV\"]')\n",
    "brand_name6=[]\n",
    "for i in brand6:\n",
    "    brand_name6.append(i.text)\n",
    "    \n",
    "product6=driver6.find_elements(\"xpath\",'//a[@class=\"IRpwTa\"]')\n",
    "product_desc6=[]\n",
    "for i in product6:\n",
    "    product_desc6.append(i.text)\n",
    "    \n",
    "price6=driver6.find_elements(\"xpath\",'//div[@class=\"_30jeq3\"]')\n",
    "product_price6=[]\n",
    "for i in price6:\n",
    "    product_price6.append(i.text)\n",
    "    \n",
    "price_off6=driver6.find_elements(\"xpath\",'//div[@class=\"_3Ay6Sb\"]')\n",
    "Discount6=[]\n",
    "for i in price_off6:\n",
    "    Discount6.append(i.text)\n",
    "    \n",
    "sneaker4=pd.DataFrame({'Brand Name':brand_name6[:10],'Product Description':product_desc6[:10], 'Product Price':product_price6[:10],'Discount':Discount6[:10]})"
   ]
  },
  {
   "cell_type": "code",
   "execution_count": 155,
   "id": "a742a4d2",
   "metadata": {},
   "outputs": [
    {
     "data": {
      "text/html": [
       "<div>\n",
       "<style scoped>\n",
       "    .dataframe tbody tr th:only-of-type {\n",
       "        vertical-align: middle;\n",
       "    }\n",
       "\n",
       "    .dataframe tbody tr th {\n",
       "        vertical-align: top;\n",
       "    }\n",
       "\n",
       "    .dataframe thead th {\n",
       "        text-align: right;\n",
       "    }\n",
       "</style>\n",
       "<table border=\"1\" class=\"dataframe\">\n",
       "  <thead>\n",
       "    <tr style=\"text-align: right;\">\n",
       "      <th></th>\n",
       "      <th>Brand Name</th>\n",
       "      <th>Product Description</th>\n",
       "      <th>Product Price</th>\n",
       "      <th>Discount</th>\n",
       "    </tr>\n",
       "  </thead>\n",
       "  <tbody>\n",
       "    <tr>\n",
       "      <th>0</th>\n",
       "      <td>Bacan</td>\n",
       "      <td>Sneakers For Men</td>\n",
       "      <td>₹598</td>\n",
       "      <td>40% off</td>\n",
       "    </tr>\n",
       "    <tr>\n",
       "      <th>1</th>\n",
       "      <td>SFR</td>\n",
       "      <td>Casual Shoes For Men Sneakers For Men</td>\n",
       "      <td>₹399</td>\n",
       "      <td>58% off</td>\n",
       "    </tr>\n",
       "    <tr>\n",
       "      <th>2</th>\n",
       "      <td>aadi</td>\n",
       "      <td>Synthetic Leather |Lightweight|Comfort|Summer|...</td>\n",
       "      <td>₹434</td>\n",
       "      <td>78% off</td>\n",
       "    </tr>\n",
       "    <tr>\n",
       "      <th>3</th>\n",
       "      <td>World Wear Footwear</td>\n",
       "      <td>5011-Latest Collection Stylish &amp; Trendy Casual...</td>\n",
       "      <td>₹399</td>\n",
       "      <td>20% off</td>\n",
       "    </tr>\n",
       "    <tr>\n",
       "      <th>4</th>\n",
       "      <td>SFR</td>\n",
       "      <td>Sneakers For Men</td>\n",
       "      <td>₹399</td>\n",
       "      <td>44% off</td>\n",
       "    </tr>\n",
       "    <tr>\n",
       "      <th>...</th>\n",
       "      <td>...</td>\n",
       "      <td>...</td>\n",
       "      <td>...</td>\n",
       "      <td>...</td>\n",
       "    </tr>\n",
       "    <tr>\n",
       "      <th>95</th>\n",
       "      <td>U.S. POLO ASSN.</td>\n",
       "      <td>GAIMAN 2.O Sneakers For Men</td>\n",
       "      <td>₹1,799</td>\n",
       "      <td>40% off</td>\n",
       "    </tr>\n",
       "    <tr>\n",
       "      <th>96</th>\n",
       "      <td>Layasa</td>\n",
       "      <td>Stylish Casual Sports Shoe Sneakers For Women</td>\n",
       "      <td>₹429</td>\n",
       "      <td>57% off</td>\n",
       "    </tr>\n",
       "    <tr>\n",
       "      <th>97</th>\n",
       "      <td>BRUTON</td>\n",
       "      <td>Combo Pack of 2 Casual Shoes Sneaker Shoes For...</td>\n",
       "      <td>₹604</td>\n",
       "      <td>78% off</td>\n",
       "    </tr>\n",
       "    <tr>\n",
       "      <th>98</th>\n",
       "      <td>HIGHLANDER</td>\n",
       "      <td>Sneakers For Men</td>\n",
       "      <td>₹539</td>\n",
       "      <td>55% off</td>\n",
       "    </tr>\n",
       "    <tr>\n",
       "      <th>99</th>\n",
       "      <td>bacca bucci</td>\n",
       "      <td>Comfy Mid-Top Casual Chunky Streetwear Fashion...</td>\n",
       "      <td>₹1,599</td>\n",
       "      <td>54% off</td>\n",
       "    </tr>\n",
       "  </tbody>\n",
       "</table>\n",
       "<p>100 rows × 4 columns</p>\n",
       "</div>"
      ],
      "text/plain": [
       "             Brand Name                                Product Description  \\\n",
       "0                 Bacan                                   Sneakers For Men   \n",
       "1                   SFR              Casual Shoes For Men Sneakers For Men   \n",
       "2                  aadi  Synthetic Leather |Lightweight|Comfort|Summer|...   \n",
       "3   World Wear Footwear  5011-Latest Collection Stylish & Trendy Casual...   \n",
       "4                   SFR                                   Sneakers For Men   \n",
       "..                  ...                                                ...   \n",
       "95      U.S. POLO ASSN.                        GAIMAN 2.O Sneakers For Men   \n",
       "96               Layasa      Stylish Casual Sports Shoe Sneakers For Women   \n",
       "97               BRUTON  Combo Pack of 2 Casual Shoes Sneaker Shoes For...   \n",
       "98           HIGHLANDER                                   Sneakers For Men   \n",
       "99          bacca bucci  Comfy Mid-Top Casual Chunky Streetwear Fashion...   \n",
       "\n",
       "   Product Price Discount  \n",
       "0           ₹598  40% off  \n",
       "1           ₹399  58% off  \n",
       "2           ₹434  78% off  \n",
       "3           ₹399  20% off  \n",
       "4           ₹399  44% off  \n",
       "..           ...      ...  \n",
       "95        ₹1,799  40% off  \n",
       "96          ₹429  57% off  \n",
       "97          ₹604  78% off  \n",
       "98          ₹539  55% off  \n",
       "99        ₹1,599  54% off  \n",
       "\n",
       "[100 rows x 4 columns]"
      ]
     },
     "execution_count": 155,
     "metadata": {},
     "output_type": "execute_result"
    }
   ],
   "source": [
    "sneaker=pd.concat([sneaker1,sneaker2,sneaker3,sneaker4], ignore_index=True)\n",
    "sneaker[:100]"
   ]
  },
  {
   "cell_type": "markdown",
   "id": "ce72b420",
   "metadata": {},
   "source": [
    "## Q7: Go to webpage https://www.amazon.in/ Enter “Laptop” in the search field and then click the search icon. Then set CPU Type filter to “Intel Core i7” as shown in the below image:\n"
   ]
  },
  {
   "cell_type": "code",
   "execution_count": 162,
   "id": "ec377a14",
   "metadata": {},
   "outputs": [],
   "source": [
    "driver = webdriver.Chrome(r\"C:\\Users\\Sunny\\Downloads\\chromedriver_win32\\chromedriver.exe\")"
   ]
  },
  {
   "cell_type": "code",
   "execution_count": 163,
   "id": "4b453919",
   "metadata": {},
   "outputs": [],
   "source": [
    "url = 'https://www.amazon.in/'\n",
    "driver.get(url)"
   ]
  },
  {
   "cell_type": "code",
   "execution_count": 164,
   "id": "7f0f88c7",
   "metadata": {},
   "outputs": [],
   "source": [
    "search_product_name=driver.find_element(By.CLASS_NAME,'nav-input')\n",
    "search_product_name.send_keys('Laptops')"
   ]
  },
  {
   "cell_type": "code",
   "execution_count": 165,
   "id": "ad8f5ff3",
   "metadata": {},
   "outputs": [],
   "source": [
    "Page=driver.find_element(By.XPATH,'/html/body/div[1]/header/div/div[1]/div[2]/div/form/div[3]/div/span/input')\n",
    "Page.click()"
   ]
  },
  {
   "cell_type": "code",
   "execution_count": 167,
   "id": "02a48807",
   "metadata": {},
   "outputs": [],
   "source": [
    "filter1=driver.find_element(By.XPATH,'/html/body/div[1]/div[2]/div[1]/div[2]/div/div[3]/span/div[1]/div/div/div[6]/ul[2]/li[14]/span/a/div')\n",
    "filter1.click()\n"
   ]
  },
  {
   "cell_type": "code",
   "execution_count": 168,
   "id": "5631f046",
   "metadata": {},
   "outputs": [
    {
     "data": {
      "text/plain": [
       "['ASUS Vivobook 14, Intel Core i7-1165G7 11th Gen, 14\" (35.56 cm) FHD, Thin and Laptop (16GB/512GB SSD/Intel Iris Xe Graphics/Windows 11/Office 2021/FP Sensor/Silver/1.55 kg), X415EA-EK701WS',\n",
       " '₹56,990\\n₹80,990',\n",
       " 'Acer Nitro 5 Gaming Laptop Intel core i7 11th Gen (16 GB/ 512 GB SSD/ NVIDIA® GeForce RTX 3050 Ti/ Windows 11 Home/144hz) AN515-57 with 39.6 cm (15.6 inches) IPS Display / 2.2 Kgs',\n",
       " 'HP Pavilion Plus, 12th Gen Intel Core i7 16GB RAM/1TB SSD 14 inch(35.6 cm)Creator Laptop with OLED,UWVA,Eye Safe Laptop/Intel Iris Xe Graphics/Backlit KB/B&O/FPR/Win 11/Alexa Built-in/MSO,14-eh0024TU',\n",
       " 'HP Victus Gaming Latest 12th Gen Intel Core i7 15.6 inch(39.6 cm) FHD Gaming Laptop (8GB RAM/512GB SSD/RTX 3050 4GB Graphics/144Hz/9ms Response Time/Win 11/MSO/BL KB/B&O/Alexa/Xbox Pass),15-fa0073TX',\n",
       " 'Lenovo IdeaPad Slim 5 12th Gen Intel Core i7 15.6\"(39.62cm) FHD IPS Laptop (16GB/512GB SSD/Win 11/Office 2021/Backlit KB/Fingerprint/FHD Camera/Alexa/3 Month Game Pass/Storm Grey/1.85Kg), 82SF004XIN',\n",
       " 'ASUS TUF Dash F15 (2022), 15.6-inch (39.62 cms) WQHD 165Hz/3ms, Intel Core i7-12650H 12th Gen, RTX 3070 8GB Graphics, Gaming Laptop (16GB/1TB SSD/Windows 11/Office 2021/Black/2 kg), FX517ZR-HQ030WS',\n",
       " 'Lenovo ThinkPad E14 Intel Core i7 12th Gen 14\" FHD IPS Thin and Light Laptop (16GB RAM/1TB SSD/Windows 11 Home/MS Office H&S 2021/Backlit Keybaord/FPR/Black/1.59 kg), 21E3S05800',\n",
       " 'Lenovo IdeaPad Gaming 3 Intel Core i7-12700H 16\"(40.64cm) WUXGA IPS 165Hz Gaming Laptop (16GB/512GB SSD/Win 11/Office 2021/NVIDIA RTX 3060 6GB/Alexa/3 Month Game Pass/Onyx Grey/2.6Kg),82SA00B2IN',\n",
       " 'ASUS VivoBook S S14 Intel Core i7-1165G7 11th Gen 14\" (35.56 cm) FHD Thin and Light Laptop (8GB RAM/512GB SSD + 32GB Optane Memory/Windows 10/Office 2019/Iris X Graphics/White/1.4 Kg) S433EA-AM702TS']"
      ]
     },
     "execution_count": 168,
     "metadata": {},
     "output_type": "execute_result"
    }
   ],
   "source": [
    "title1=[]\n",
    "#scrapting all the tags brand names\n",
    "lap=driver.find_elements(By.CLASS_NAME,\"a-size-mini\")\n",
    "\n",
    "#displaying 10 tags extracted above into text \n",
    "for i in lap:\n",
    "    title1.append(i.text)\n",
    "title1[0:10]"
   ]
  },
  {
   "cell_type": "code",
   "execution_count": 169,
   "id": "dd8724b0",
   "metadata": {},
   "outputs": [
    {
     "data": {
      "text/plain": [
       "['56,990',\n",
       " '78,106',\n",
       " '94,630',\n",
       " '84,990',\n",
       " '79,990',\n",
       " '1,44,990',\n",
       " '1,02,490',\n",
       " '99,990',\n",
       " '65,990',\n",
       " '1,69,990']"
      ]
     },
     "execution_count": 169,
     "metadata": {},
     "output_type": "execute_result"
    }
   ],
   "source": [
    "price_laptop=[]\n",
    "#scrapting all the tags brand names\n",
    "lap_price=driver.find_elements(By.CLASS_NAME,\"a-price-whole\")\n",
    "\n",
    "#displaying 10 tags extracted above into text \n",
    "for i in lap_price:\n",
    "    price_laptop.append(i.text)\n",
    "price_laptop[0:10]"
   ]
  },
  {
   "cell_type": "code",
   "execution_count": 170,
   "id": "b75671b2",
   "metadata": {},
   "outputs": [
    {
     "data": {
      "text/html": [
       "<div>\n",
       "<style scoped>\n",
       "    .dataframe tbody tr th:only-of-type {\n",
       "        vertical-align: middle;\n",
       "    }\n",
       "\n",
       "    .dataframe tbody tr th {\n",
       "        vertical-align: top;\n",
       "    }\n",
       "\n",
       "    .dataframe thead th {\n",
       "        text-align: right;\n",
       "    }\n",
       "</style>\n",
       "<table border=\"1\" class=\"dataframe\">\n",
       "  <thead>\n",
       "    <tr style=\"text-align: right;\">\n",
       "      <th></th>\n",
       "      <th>Laptop name</th>\n",
       "      <th>Price</th>\n",
       "    </tr>\n",
       "  </thead>\n",
       "  <tbody>\n",
       "    <tr>\n",
       "      <th>0</th>\n",
       "      <td>ASUS Vivobook 14, Intel Core i7-1165G7 11th Ge...</td>\n",
       "      <td>56,990</td>\n",
       "    </tr>\n",
       "    <tr>\n",
       "      <th>1</th>\n",
       "      <td>₹56,990\\n₹80,990</td>\n",
       "      <td>78,106</td>\n",
       "    </tr>\n",
       "    <tr>\n",
       "      <th>2</th>\n",
       "      <td>Acer Nitro 5 Gaming Laptop Intel core i7 11th ...</td>\n",
       "      <td>94,630</td>\n",
       "    </tr>\n",
       "    <tr>\n",
       "      <th>3</th>\n",
       "      <td>HP Pavilion Plus, 12th Gen Intel Core i7 16GB ...</td>\n",
       "      <td>84,990</td>\n",
       "    </tr>\n",
       "    <tr>\n",
       "      <th>4</th>\n",
       "      <td>HP Victus Gaming Latest 12th Gen Intel Core i7...</td>\n",
       "      <td>79,990</td>\n",
       "    </tr>\n",
       "    <tr>\n",
       "      <th>5</th>\n",
       "      <td>Lenovo IdeaPad Slim 5 12th Gen Intel Core i7 1...</td>\n",
       "      <td>1,44,990</td>\n",
       "    </tr>\n",
       "    <tr>\n",
       "      <th>6</th>\n",
       "      <td>ASUS TUF Dash F15 (2022), 15.6-inch (39.62 cms...</td>\n",
       "      <td>1,02,490</td>\n",
       "    </tr>\n",
       "    <tr>\n",
       "      <th>7</th>\n",
       "      <td>Lenovo ThinkPad E14 Intel Core i7 12th Gen 14\"...</td>\n",
       "      <td>99,990</td>\n",
       "    </tr>\n",
       "    <tr>\n",
       "      <th>8</th>\n",
       "      <td>Lenovo IdeaPad Gaming 3 Intel Core i7-12700H 1...</td>\n",
       "      <td>65,990</td>\n",
       "    </tr>\n",
       "    <tr>\n",
       "      <th>9</th>\n",
       "      <td>ASUS VivoBook S S14 Intel Core i7-1165G7 11th ...</td>\n",
       "      <td>1,69,990</td>\n",
       "    </tr>\n",
       "  </tbody>\n",
       "</table>\n",
       "</div>"
      ],
      "text/plain": [
       "                                         Laptop name     Price\n",
       "0  ASUS Vivobook 14, Intel Core i7-1165G7 11th Ge...    56,990\n",
       "1                                   ₹56,990\\n₹80,990    78,106\n",
       "2  Acer Nitro 5 Gaming Laptop Intel core i7 11th ...    94,630\n",
       "3  HP Pavilion Plus, 12th Gen Intel Core i7 16GB ...    84,990\n",
       "4  HP Victus Gaming Latest 12th Gen Intel Core i7...    79,990\n",
       "5  Lenovo IdeaPad Slim 5 12th Gen Intel Core i7 1...  1,44,990\n",
       "6  ASUS TUF Dash F15 (2022), 15.6-inch (39.62 cms...  1,02,490\n",
       "7  Lenovo ThinkPad E14 Intel Core i7 12th Gen 14\"...    99,990\n",
       "8  Lenovo IdeaPad Gaming 3 Intel Core i7-12700H 1...    65,990\n",
       "9  ASUS VivoBook S S14 Intel Core i7-1165G7 11th ...  1,69,990"
      ]
     },
     "execution_count": 170,
     "metadata": {},
     "output_type": "execute_result"
    }
   ],
   "source": [
    "import pandas as pd\n",
    "df = pd.DataFrame({'Laptop name':title1[0:10],'Price':price_laptop[0:10]})\n",
    "df"
   ]
  }
 ],
 "metadata": {
  "kernelspec": {
   "display_name": "Python 3 (ipykernel)",
   "language": "python",
   "name": "python3"
  },
  "language_info": {
   "codemirror_mode": {
    "name": "ipython",
    "version": 3
   },
   "file_extension": ".py",
   "mimetype": "text/x-python",
   "name": "python",
   "nbconvert_exporter": "python",
   "pygments_lexer": "ipython3",
   "version": "3.9.12"
  }
 },
 "nbformat": 4,
 "nbformat_minor": 5
}
